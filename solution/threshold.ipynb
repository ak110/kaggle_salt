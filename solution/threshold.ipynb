{
 "cells": [
  {
   "cell_type": "code",
   "execution_count": 1,
   "metadata": {},
   "outputs": [],
   "source": [
    "%load_ext autoreload\n",
    "%autoreload 2"
   ]
  },
  {
   "cell_type": "code",
   "execution_count": 2,
   "metadata": {},
   "outputs": [],
   "source": [
    "import pathlib\n",
    "\n",
    "import numpy as np\n",
    "import sklearn.externals.joblib as joblib\n",
    "\n",
    "import pytoolkit as tk\n",
    "import _data, _evaluation"
   ]
  },
  {
   "cell_type": "code",
   "execution_count": 3,
   "metadata": {},
   "outputs": [],
   "source": [
    "X, y = _data.load_train_data()"
   ]
  },
  {
   "cell_type": "code",
   "execution_count": 4,
   "metadata": {},
   "outputs": [],
   "source": [
    "# pred = joblib.load('cache/val/stack_dense.pkl')\n",
    "pred = joblib.load('cache/val/stack_drop.pkl')\n",
    "# pred = joblib.load('cache/val/stack_res.pkl')"
   ]
  },
  {
   "cell_type": "code",
   "execution_count": 13,
   "metadata": {},
   "outputs": [],
   "source": [
    "mask_neg = y.max(axis=(1, 2, 3)) == 0\n",
    "mask_pos = np.logical_not(mask_neg)"
   ]
  },
  {
   "cell_type": "code",
   "execution_count": null,
   "metadata": {},
   "outputs": [],
   "source": [
    "threshold_y = []\n",
    "y_pos = y > 0.5\n",
    "y_neg = np.logical_not(y_pos)\n",
    "for i in tk.tqdm(range(len(pred))):\n",
    "    if mask_pos[i]:\n",
    "        mean_p = pred[i][y_pos[i]].mean()\n",
    "        mean_n = pred[i][y_neg[i]].mean()\n",
    "        threshold_list = np.linspace(mean_n, mean_p, 1000)\n",
    "        iou_list = []\n",
    "        for th in threshold_list:\n",
    "            inter = np.logical_and(pred[i] > th, y_pos[i])\n",
    "            union = np.logical_or(pred[i] > th, y_pos[i])\n",
    "            iou = np.sum(inter) / max(np.sum(union), 1)\n",
    "            iou_list.append(iou)\n",
    "        best_index = np.argmax(iou_list)\n",
    "        true_theshold = threshold_list[best_index]\n",
    "        iou = iou_list[best_index]\n",
    "    else:\n",
    "        true_theshold = (pred[i].max() + 1) / 2\n",
    "    threshold_y.append(true_theshold)\n",
    "\n",
    "pathlib.Path('threshold').mkdir(exist_ok=True)\n",
    "joblib.dump(np.array(threshold_y), 'threshold/y.pkl')"
   ]
  },
  {
   "cell_type": "code",
   "execution_count": 39,
   "metadata": {},
   "outputs": [
    {
     "name": "stdout",
     "output_type": "stream",
     "text": [
      "(4000, 12)\n"
     ]
    },
    {
     "data": {
      "text/plain": [
       "['data/threshold_X.pkl']"
      ]
     },
     "execution_count": 39,
     "metadata": {},
     "output_type": "execute_result"
    }
   ],
   "source": [
    "threshold_X = np.swapaxes([\n",
    "    np.min(pred, axis=(1, 2, 3)),\n",
    "    np.max(pred, axis=(1, 2, 3)),\n",
    "    np.mean(pred, axis=(1, 2, 3)),\n",
    "    np.median(pred, axis=(1, 2, 3)),\n",
    "    np.percentile(pred, 10, axis=(1, 2, 3)),\n",
    "    np.percentile(pred, 20, axis=(1, 2, 3)),\n",
    "    np.percentile(pred, 30, axis=(1, 2, 3)),\n",
    "    np.percentile(pred, 40, axis=(1, 2, 3)),\n",
    "    np.percentile(pred, 60, axis=(1, 2, 3)),\n",
    "    np.percentile(pred, 70, axis=(1, 2, 3)),\n",
    "    np.percentile(pred, 80, axis=(1, 2, 3)),\n",
    "    np.percentile(pred, 90, axis=(1, 2, 3)),\n",
    "], 0, 1)\n",
    "print(threshold_X.shape)\n",
    "\n",
    "pathlib.Path('threshold').mkdir(exist_ok=True)\n",
    "joblib.dump(threshold_X, 'threshold/X.pkl')"
   ]
  },
  {
   "cell_type": "code",
   "execution_count": 41,
   "metadata": {},
   "outputs": [
    {
     "name": "stdout",
     "output_type": "stream",
     "text": [
      "RandomForestRegressor: 0.159\n",
      "ExtraTreesRegressor: 0.162\n",
      "GradientBoostingRegressor: 0.160\n",
      "SVR: 0.181\n",
      "KNeighborsRegressor: 0.164\n",
      "RandomForestRegressor: error=0.059\n"
     ]
    },
    {
     "data": {
      "text/plain": [
       "['threshold/model.pkl']"
      ]
     },
     "execution_count": 41,
     "metadata": {},
     "output_type": "execute_result"
    }
   ],
   "source": [
    "import sklearn.ensemble\n",
    "import sklearn.svm\n",
    "import sklearn.neighbors\n",
    "estimators = [\n",
    "    sklearn.ensemble.RandomForestRegressor(n_estimators=100, n_jobs=-1),\n",
    "    sklearn.ensemble.ExtraTreesRegressor(n_estimators=500, n_jobs=-1),\n",
    "    sklearn.ensemble.GradientBoostingRegressor(n_estimators=100),\n",
    "    sklearn.svm.SVR(gamma='auto'),\n",
    "    sklearn.neighbors.KNeighborsRegressor(),\n",
    "]\n",
    "score_list = []\n",
    "for estimator in estimators:\n",
    "    pred = sklearn.model_selection.cross_val_predict(estimator, threshold_X, threshold_y, cv=5, n_jobs=-1)\n",
    "    score = sklearn.metrics.mean_absolute_error(threshold_y, pred)\n",
    "    score_list.append(score)\n",
    "    print(f'{estimator.__class__.__name__}: {score:.3f}')\n",
    "\n",
    "estimator = estimators[np.argmin(score_list)]\n",
    "estimator.fit(threshold_X, threshold_y)\n",
    "error = sklearn.metrics.mean_absolute_error(threshold_y, estimator.predict(threshold_X))\n",
    "print(f'{estimator.__class__.__name__}: error={error:.3f}')\n",
    "joblib.dump(estimator, 'threshold/model.pkl')"
   ]
  }
 ],
 "metadata": {
  "kernelspec": {
   "display_name": "Python 3",
   "language": "python",
   "name": "python3"
  },
  "language_info": {
   "codemirror_mode": {
    "name": "ipython",
    "version": 3
   },
   "file_extension": ".py",
   "mimetype": "text/x-python",
   "name": "python",
   "nbconvert_exporter": "python",
   "pygments_lexer": "ipython3",
   "version": "3.6.6"
  }
 },
 "nbformat": 4,
 "nbformat_minor": 2
}
