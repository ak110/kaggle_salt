{
 "cells": [
  {
   "cell_type": "code",
   "execution_count": 1,
   "metadata": {},
   "outputs": [],
   "source": [
    "%load_ext autoreload\n",
    "%autoreload 2"
   ]
  },
  {
   "cell_type": "code",
   "execution_count": 2,
   "metadata": {},
   "outputs": [],
   "source": [
    "from IPython.display import Image, display_png\n",
    "from tqdm import tqdm_notebook as tqdm\n",
    "import PIL.Image"
   ]
  },
  {
   "cell_type": "code",
   "execution_count": 3,
   "metadata": {},
   "outputs": [],
   "source": [
    "import pathlib\n",
    "\n",
    "import numpy as np\n",
    "import sklearn.externals.joblib as joblib\n",
    "\n",
    "import pytoolkit as tk\n",
    "from lib import data, generator, evaluation"
   ]
  },
  {
   "cell_type": "code",
   "execution_count": 4,
   "metadata": {},
   "outputs": [],
   "source": [
    "X, d, y = data.load_train_data()\n",
    "Xy = np.concatenate([X, y], axis=-1)"
   ]
  },
  {
   "cell_type": "code",
   "execution_count": 5,
   "metadata": {},
   "outputs": [],
   "source": [
    "mask = X.max(axis=(1, 2, 3)) != 0  # 真っ黒画像を除外(なぜか結構ある。。)\n",
    "Xy_l = Xy[mask, :, :2, :]\n",
    "Xy_r = Xy[mask, :, -2:, :]\n",
    "Xy_t = Xy[mask, :2, :, :]\n",
    "Xy_b = Xy[mask, -2:, :, :]"
   ]
  },
  {
   "cell_type": "code",
   "execution_count": 6,
   "metadata": {},
   "outputs": [],
   "source": [
    "import itertools\n",
    "indices1, indices2 = zip(*list(itertools.permutations(range(len(X[mask])), 2)))\n",
    "indices1 = np.array(indices1)\n",
    "indices2 = np.array(indices2)"
   ]
  },
  {
   "cell_type": "code",
   "execution_count": 7,
   "metadata": {},
   "outputs": [
    {
     "data": {
      "text/plain": [
       "15362480"
      ]
     },
     "execution_count": 7,
     "metadata": {},
     "output_type": "execute_result"
    }
   ],
   "source": [
    "len(indices1)"
   ]
  },
  {
   "cell_type": "code",
   "execution_count": 42,
   "metadata": {},
   "outputs": [
    {
     "name": "stderr",
     "output_type": "stream",
     "text": [
      "100%|###########################################################| 1537/1537 [00:52<00:00, 29.28it/s]\n",
      "100%|###########################################################| 1537/1537 [00:26<00:00, 57.01it/s]\n"
     ]
    }
   ],
   "source": [
    "BS = 10000\n",
    "d_lr = np.concatenate([np.sqrt(np.sum(np.square(Xy_l[indices1[i:i + BS]] - Xy_r[indices2[i:i + BS]]), axis=(1, 2, 3))) for i in tk.tqdm(list(range(0, len(indices1), BS)))])\n",
    "d_tb = np.concatenate([np.sqrt(np.sum(np.square(Xy_t[indices1[i:i + BS]] - Xy_b[indices2[i:i + BS]]), axis=(1, 2, 3))) for i in tk.tqdm(list(range(0, len(indices1), BS)))])"
   ]
  },
  {
   "cell_type": "code",
   "execution_count": 46,
   "metadata": {},
   "outputs": [
    {
     "data": {
      "image/png": "[encoded data removed]",
      "text/plain": [
       "<PIL.Image.Image image mode=L size=101x202 at 0x7F01F6074BA8>"
      ]
     },
     "execution_count": 46,
     "metadata": {},
     "output_type": "execute_result"
    }
   ],
   "source": [
    "chk = np.where(d_tb <= 50)[0][20]\n",
    "\n",
    "Xt = np.concatenate([X[mask][indices2[chk]], X[mask][indices1[chk]]], axis=0)\n",
    "yt = np.concatenate([y[mask][indices2[chk]], y[mask][indices1[chk]]], axis=0)\n",
    "PIL.Image.fromarray(np.squeeze(Xt.astype(np.uint8)))\n",
    "#PIL.Image.fromarray(np.squeeze(yt.astype(np.uint8)))"
   ]
  }
 ],
 "metadata": {
  "kernelspec": {
   "display_name": "Python 3",
   "language": "python",
   "name": "python3"
  },
  "language_info": {
   "codemirror_mode": {
    "name": "ipython",
    "version": 3
   },
   "file_extension": ".py",
   "mimetype": "text/x-python",
   "name": "python",
   "nbconvert_exporter": "python",
   "pygments_lexer": "ipython3",
   "version": "3.6.6"
  }
 },
 "nbformat": 4,
 "nbformat_minor": 2
}
